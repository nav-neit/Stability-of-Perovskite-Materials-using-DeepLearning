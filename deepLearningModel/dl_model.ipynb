{
 "cells": [
  {
   "cell_type": "code",
   "execution_count": 362,
   "metadata": {},
   "outputs": [],
   "source": [
    "import pandas as pd\n",
    "import matplotlib.pyplot as plt\n",
    "from sklearn.preprocessing import MinMaxScaler,StandardScaler\n",
    "import tensorflow as tf\n",
    "from tensorflow.keras import layers, losses\n",
    "from tensorflow.keras.models import Model\n",
    "from tensorflow.keras import initializers\n",
    "from keras.callbacks import LearningRateScheduler, ReduceLROnPlateau\n",
    "import seaborn as sns"
   ]
  },
  {
   "cell_type": "code",
   "execution_count": 363,
   "metadata": {},
   "outputs": [],
   "source": [
    "import absl.logging\n",
    "absl.logging.set_verbosity(absl.logging.ERROR)"
   ]
  },
  {
   "cell_type": "code",
   "execution_count": 364,
   "metadata": {},
   "outputs": [],
   "source": [
    "initializer = initializers.RandomUniform(minval=-1.0, maxval=1.0)\n",
    "\n",
    "class regressor(Model):\n",
    "    def __init__(self):\n",
    "        super(regressor, self).__init__()\n",
    "        self.reg = tf.keras.Sequential([\n",
    "            layers.Dense(20, activation=tf.keras.layers.LeakyReLU(alpha=0.2), kernel_initializer=initializer),\n",
    "            layers.Dense(20, activation=tf.keras.layers.LeakyReLU(alpha=0.2), kernel_initializer=initializer),\n",
    "            layers.Dense(20, activation=tf.keras.layers.LeakyReLU(alpha=0.2), kernel_initializer=initializer),\n",
    "            layers.Dense(1, activation='sigmoid',kernel_initializer=initializer)\n",
    "        ])\n",
    "\n",
    "    def call(self, x):\n",
    "        y = self.reg(x)\n",
    "        return y"
   ]
  },
  {
   "cell_type": "code",
   "execution_count": 365,
   "metadata": {},
   "outputs": [
    {
     "data": {
      "text/html": [
       "<div>\n",
       "<style scoped>\n",
       "    .dataframe tbody tr th:only-of-type {\n",
       "        vertical-align: middle;\n",
       "    }\n",
       "\n",
       "    .dataframe tbody tr th {\n",
       "        vertical-align: top;\n",
       "    }\n",
       "\n",
       "    .dataframe thead th {\n",
       "        text-align: right;\n",
       "    }\n",
       "</style>\n",
       "<table border=\"1\" class=\"dataframe\">\n",
       "  <thead>\n",
       "    <tr style=\"text-align: right;\">\n",
       "      <th></th>\n",
       "      <th>x1</th>\n",
       "      <th>x2</th>\n",
       "      <th>x3</th>\n",
       "      <th>x4</th>\n",
       "      <th>x5</th>\n",
       "      <th>x6</th>\n",
       "      <th>x7</th>\n",
       "      <th>x8</th>\n",
       "      <th>x9</th>\n",
       "      <th>x10</th>\n",
       "      <th>heat_of_formation</th>\n",
       "    </tr>\n",
       "  </thead>\n",
       "  <tbody>\n",
       "    <tr>\n",
       "      <th>0</th>\n",
       "      <td>-0.944244</td>\n",
       "      <td>-0.467843</td>\n",
       "      <td>-0.250634</td>\n",
       "      <td>-0.607917</td>\n",
       "      <td>0.722437</td>\n",
       "      <td>2.718357</td>\n",
       "      <td>1.390860</td>\n",
       "      <td>0.095709</td>\n",
       "      <td>-0.376503</td>\n",
       "      <td>-0.381374</td>\n",
       "      <td>-1.240558</td>\n",
       "    </tr>\n",
       "    <tr>\n",
       "      <th>1</th>\n",
       "      <td>-0.184422</td>\n",
       "      <td>-0.263323</td>\n",
       "      <td>-0.406619</td>\n",
       "      <td>1.421094</td>\n",
       "      <td>1.284893</td>\n",
       "      <td>3.853995</td>\n",
       "      <td>1.308007</td>\n",
       "      <td>-0.123640</td>\n",
       "      <td>1.368393</td>\n",
       "      <td>0.935994</td>\n",
       "      <td>-1.012833</td>\n",
       "    </tr>\n",
       "    <tr>\n",
       "      <th>2</th>\n",
       "      <td>-0.381459</td>\n",
       "      <td>-0.321316</td>\n",
       "      <td>-0.360481</td>\n",
       "      <td>0.190600</td>\n",
       "      <td>1.159082</td>\n",
       "      <td>3.447642</td>\n",
       "      <td>1.226776</td>\n",
       "      <td>-0.085541</td>\n",
       "      <td>0.499673</td>\n",
       "      <td>0.133785</td>\n",
       "      <td>-1.145090</td>\n",
       "    </tr>\n",
       "    <tr>\n",
       "      <th>3</th>\n",
       "      <td>-0.791677</td>\n",
       "      <td>-0.419213</td>\n",
       "      <td>-0.270855</td>\n",
       "      <td>-0.446005</td>\n",
       "      <td>0.817097</td>\n",
       "      <td>2.801007</td>\n",
       "      <td>1.504990</td>\n",
       "      <td>-0.020920</td>\n",
       "      <td>-0.254898</td>\n",
       "      <td>-0.273302</td>\n",
       "      <td>-1.112540</td>\n",
       "    </tr>\n",
       "    <tr>\n",
       "      <th>4</th>\n",
       "      <td>-0.785569</td>\n",
       "      <td>-0.452266</td>\n",
       "      <td>-0.316529</td>\n",
       "      <td>-0.389248</td>\n",
       "      <td>0.983658</td>\n",
       "      <td>3.238737</td>\n",
       "      <td>0.938708</td>\n",
       "      <td>0.085265</td>\n",
       "      <td>-0.219014</td>\n",
       "      <td>-0.267498</td>\n",
       "      <td>-1.162859</td>\n",
       "    </tr>\n",
       "  </tbody>\n",
       "</table>\n",
       "</div>"
      ],
      "text/plain": [
       "         x1        x2        x3        x4        x5        x6        x7  \\\n",
       "0 -0.944244 -0.467843 -0.250634 -0.607917  0.722437  2.718357  1.390860   \n",
       "1 -0.184422 -0.263323 -0.406619  1.421094  1.284893  3.853995  1.308007   \n",
       "2 -0.381459 -0.321316 -0.360481  0.190600  1.159082  3.447642  1.226776   \n",
       "3 -0.791677 -0.419213 -0.270855 -0.446005  0.817097  2.801007  1.504990   \n",
       "4 -0.785569 -0.452266 -0.316529 -0.389248  0.983658  3.238737  0.938708   \n",
       "\n",
       "         x8        x9       x10  heat_of_formation  \n",
       "0  0.095709 -0.376503 -0.381374          -1.240558  \n",
       "1 -0.123640  1.368393  0.935994          -1.012833  \n",
       "2 -0.085541  0.499673  0.133785          -1.145090  \n",
       "3 -0.020920 -0.254898 -0.273302          -1.112540  \n",
       "4  0.085265 -0.219014 -0.267498          -1.162859  "
      ]
     },
     "execution_count": 365,
     "metadata": {},
     "output_type": "execute_result"
    }
   ],
   "source": [
    "dataset = pd.read_csv('encoded_dataset.csv',usecols=['x1','x2','x3','x4','x5','x6','x7','x8','x9','x10','heat_of_formation'])\n",
    "dataset.head(5)"
   ]
  },
  {
   "cell_type": "code",
   "execution_count": 366,
   "metadata": {},
   "outputs": [],
   "source": [
    "def get_redundant_pairs(df):\n",
    "    '''Get diagonal and lower triangular pairs of correlation matrix'''\n",
    "    pairs_to_drop = set()\n",
    "    cols = df.columns\n",
    "    for i in range(0, df.shape[1]):\n",
    "        for j in range(0, i+1):\n",
    "            pairs_to_drop.add((cols[i], cols[j]))\n",
    "    return pairs_to_drop"
   ]
  },
  {
   "cell_type": "code",
   "execution_count": 367,
   "metadata": {},
   "outputs": [],
   "source": [
    "def get_top_abs_correlations(df, n=5):\n",
    "    au_corr = df.corr().abs().unstack()\n",
    "    labels_to_drop = get_redundant_pairs(df)\n",
    "    au_corr = au_corr.drop(labels=labels_to_drop).sort_values(ascending=False)\n",
    "    return au_corr[0:n]"
   ]
  },
  {
   "cell_type": "code",
   "execution_count": 368,
   "metadata": {},
   "outputs": [
    {
     "data": {
      "text/html": [
       "<div>\n",
       "<style scoped>\n",
       "    .dataframe tbody tr th:only-of-type {\n",
       "        vertical-align: middle;\n",
       "    }\n",
       "\n",
       "    .dataframe tbody tr th {\n",
       "        vertical-align: top;\n",
       "    }\n",
       "\n",
       "    .dataframe thead th {\n",
       "        text-align: right;\n",
       "    }\n",
       "</style>\n",
       "<table border=\"1\" class=\"dataframe\">\n",
       "  <thead>\n",
       "    <tr style=\"text-align: right;\">\n",
       "      <th></th>\n",
       "      <th>x1</th>\n",
       "      <th>x2</th>\n",
       "      <th>x3</th>\n",
       "      <th>x4</th>\n",
       "      <th>x5</th>\n",
       "      <th>x6</th>\n",
       "      <th>x7</th>\n",
       "      <th>x8</th>\n",
       "      <th>x9</th>\n",
       "      <th>x10</th>\n",
       "      <th>heat_of_formation</th>\n",
       "    </tr>\n",
       "  </thead>\n",
       "  <tbody>\n",
       "    <tr>\n",
       "      <th>x1</th>\n",
       "      <td>1.000000</td>\n",
       "      <td>0.351601</td>\n",
       "      <td>-0.136828</td>\n",
       "      <td>0.384044</td>\n",
       "      <td>0.287792</td>\n",
       "      <td>-0.410522</td>\n",
       "      <td>-0.064510</td>\n",
       "      <td>-0.372696</td>\n",
       "      <td>0.718078</td>\n",
       "      <td>0.220726</td>\n",
       "      <td>0.253330</td>\n",
       "    </tr>\n",
       "    <tr>\n",
       "      <th>x2</th>\n",
       "      <td>0.351601</td>\n",
       "      <td>1.000000</td>\n",
       "      <td>0.215372</td>\n",
       "      <td>0.142751</td>\n",
       "      <td>-0.140811</td>\n",
       "      <td>-0.361768</td>\n",
       "      <td>0.796611</td>\n",
       "      <td>-0.907103</td>\n",
       "      <td>0.157708</td>\n",
       "      <td>0.382171</td>\n",
       "      <td>0.805385</td>\n",
       "    </tr>\n",
       "    <tr>\n",
       "      <th>x3</th>\n",
       "      <td>-0.136828</td>\n",
       "      <td>0.215372</td>\n",
       "      <td>1.000000</td>\n",
       "      <td>-0.563305</td>\n",
       "      <td>-0.450853</td>\n",
       "      <td>-0.499272</td>\n",
       "      <td>0.183730</td>\n",
       "      <td>-0.003746</td>\n",
       "      <td>-0.523451</td>\n",
       "      <td>-0.100701</td>\n",
       "      <td>0.320253</td>\n",
       "    </tr>\n",
       "    <tr>\n",
       "      <th>x4</th>\n",
       "      <td>0.384044</td>\n",
       "      <td>0.142751</td>\n",
       "      <td>-0.563305</td>\n",
       "      <td>1.000000</td>\n",
       "      <td>0.092220</td>\n",
       "      <td>0.528664</td>\n",
       "      <td>-0.072510</td>\n",
       "      <td>-0.133322</td>\n",
       "      <td>0.850025</td>\n",
       "      <td>0.664578</td>\n",
       "      <td>0.030118</td>\n",
       "    </tr>\n",
       "    <tr>\n",
       "      <th>x5</th>\n",
       "      <td>0.287792</td>\n",
       "      <td>-0.140811</td>\n",
       "      <td>-0.450853</td>\n",
       "      <td>0.092220</td>\n",
       "      <td>1.000000</td>\n",
       "      <td>-0.075760</td>\n",
       "      <td>-0.031875</td>\n",
       "      <td>-0.178773</td>\n",
       "      <td>0.362473</td>\n",
       "      <td>-0.540593</td>\n",
       "      <td>-0.316482</td>\n",
       "    </tr>\n",
       "    <tr>\n",
       "      <th>x6</th>\n",
       "      <td>-0.410522</td>\n",
       "      <td>-0.361768</td>\n",
       "      <td>-0.499272</td>\n",
       "      <td>0.528664</td>\n",
       "      <td>-0.075760</td>\n",
       "      <td>1.000000</td>\n",
       "      <td>-0.195292</td>\n",
       "      <td>0.379183</td>\n",
       "      <td>0.174411</td>\n",
       "      <td>0.320207</td>\n",
       "      <td>-0.364270</td>\n",
       "    </tr>\n",
       "    <tr>\n",
       "      <th>x7</th>\n",
       "      <td>-0.064510</td>\n",
       "      <td>0.796611</td>\n",
       "      <td>0.183730</td>\n",
       "      <td>-0.072510</td>\n",
       "      <td>-0.031875</td>\n",
       "      <td>-0.195292</td>\n",
       "      <td>1.000000</td>\n",
       "      <td>-0.740374</td>\n",
       "      <td>-0.154410</td>\n",
       "      <td>0.088284</td>\n",
       "      <td>0.747274</td>\n",
       "    </tr>\n",
       "    <tr>\n",
       "      <th>x8</th>\n",
       "      <td>-0.372696</td>\n",
       "      <td>-0.907103</td>\n",
       "      <td>-0.003746</td>\n",
       "      <td>-0.133322</td>\n",
       "      <td>-0.178773</td>\n",
       "      <td>0.379183</td>\n",
       "      <td>-0.740374</td>\n",
       "      <td>1.000000</td>\n",
       "      <td>-0.219043</td>\n",
       "      <td>-0.163399</td>\n",
       "      <td>-0.587545</td>\n",
       "    </tr>\n",
       "    <tr>\n",
       "      <th>x9</th>\n",
       "      <td>0.718078</td>\n",
       "      <td>0.157708</td>\n",
       "      <td>-0.523451</td>\n",
       "      <td>0.850025</td>\n",
       "      <td>0.362473</td>\n",
       "      <td>0.174411</td>\n",
       "      <td>-0.154410</td>\n",
       "      <td>-0.219043</td>\n",
       "      <td>1.000000</td>\n",
       "      <td>0.420462</td>\n",
       "      <td>0.009511</td>\n",
       "    </tr>\n",
       "    <tr>\n",
       "      <th>x10</th>\n",
       "      <td>0.220726</td>\n",
       "      <td>0.382171</td>\n",
       "      <td>-0.100701</td>\n",
       "      <td>0.664578</td>\n",
       "      <td>-0.540593</td>\n",
       "      <td>0.320207</td>\n",
       "      <td>0.088284</td>\n",
       "      <td>-0.163399</td>\n",
       "      <td>0.420462</td>\n",
       "      <td>1.000000</td>\n",
       "      <td>0.367204</td>\n",
       "    </tr>\n",
       "    <tr>\n",
       "      <th>heat_of_formation</th>\n",
       "      <td>0.253330</td>\n",
       "      <td>0.805385</td>\n",
       "      <td>0.320253</td>\n",
       "      <td>0.030118</td>\n",
       "      <td>-0.316482</td>\n",
       "      <td>-0.364270</td>\n",
       "      <td>0.747274</td>\n",
       "      <td>-0.587545</td>\n",
       "      <td>0.009511</td>\n",
       "      <td>0.367204</td>\n",
       "      <td>1.000000</td>\n",
       "    </tr>\n",
       "  </tbody>\n",
       "</table>\n",
       "</div>"
      ],
      "text/plain": [
       "                         x1        x2        x3        x4        x5        x6  \\\n",
       "x1                 1.000000  0.351601 -0.136828  0.384044  0.287792 -0.410522   \n",
       "x2                 0.351601  1.000000  0.215372  0.142751 -0.140811 -0.361768   \n",
       "x3                -0.136828  0.215372  1.000000 -0.563305 -0.450853 -0.499272   \n",
       "x4                 0.384044  0.142751 -0.563305  1.000000  0.092220  0.528664   \n",
       "x5                 0.287792 -0.140811 -0.450853  0.092220  1.000000 -0.075760   \n",
       "x6                -0.410522 -0.361768 -0.499272  0.528664 -0.075760  1.000000   \n",
       "x7                -0.064510  0.796611  0.183730 -0.072510 -0.031875 -0.195292   \n",
       "x8                -0.372696 -0.907103 -0.003746 -0.133322 -0.178773  0.379183   \n",
       "x9                 0.718078  0.157708 -0.523451  0.850025  0.362473  0.174411   \n",
       "x10                0.220726  0.382171 -0.100701  0.664578 -0.540593  0.320207   \n",
       "heat_of_formation  0.253330  0.805385  0.320253  0.030118 -0.316482 -0.364270   \n",
       "\n",
       "                         x7        x8        x9       x10  heat_of_formation  \n",
       "x1                -0.064510 -0.372696  0.718078  0.220726           0.253330  \n",
       "x2                 0.796611 -0.907103  0.157708  0.382171           0.805385  \n",
       "x3                 0.183730 -0.003746 -0.523451 -0.100701           0.320253  \n",
       "x4                -0.072510 -0.133322  0.850025  0.664578           0.030118  \n",
       "x5                -0.031875 -0.178773  0.362473 -0.540593          -0.316482  \n",
       "x6                -0.195292  0.379183  0.174411  0.320207          -0.364270  \n",
       "x7                 1.000000 -0.740374 -0.154410  0.088284           0.747274  \n",
       "x8                -0.740374  1.000000 -0.219043 -0.163399          -0.587545  \n",
       "x9                -0.154410 -0.219043  1.000000  0.420462           0.009511  \n",
       "x10                0.088284 -0.163399  0.420462  1.000000           0.367204  \n",
       "heat_of_formation  0.747274 -0.587545  0.009511  0.367204           1.000000  "
      ]
     },
     "execution_count": 368,
     "metadata": {},
     "output_type": "execute_result"
    }
   ],
   "source": [
    "dataset.corr()"
   ]
  },
  {
   "cell_type": "code",
   "execution_count": 369,
   "metadata": {},
   "outputs": [
    {
     "name": "stdout",
     "output_type": "stream",
     "text": [
      "Top Absolute Correlations\n",
      "x2  x8                   0.907103\n",
      "x4  x9                   0.850025\n",
      "x2  heat_of_formation    0.805385\n",
      "    x7                   0.796611\n",
      "x7  heat_of_formation    0.747274\n",
      "dtype: float64\n"
     ]
    }
   ],
   "source": [
    "print(\"Top Absolute Correlations\")\n",
    "print(get_top_abs_correlations(dataset, 5))"
   ]
  },
  {
   "cell_type": "code",
   "execution_count": 370,
   "metadata": {},
   "outputs": [
    {
     "data": {
      "text/plain": [
       "<AxesSubplot:>"
      ]
     },
     "execution_count": 370,
     "metadata": {},
     "output_type": "execute_result"
    },
    {
     "data": {
      "image/png": "[encoded data removed]",
      "text/plain": [
       "<Figure size 432x288 with 2 Axes>"
      ]
     },
     "metadata": {
      "needs_background": "light"
     },
     "output_type": "display_data"
    }
   ],
   "source": [
    "sns.heatmap(dataset.corr())"
   ]
  },
  {
   "cell_type": "code",
   "execution_count": 371,
   "metadata": {},
   "outputs": [],
   "source": [
    "dataset = dataset.drop(['x4','x8', 'x9', 'x7'], axis=1)"
   ]
  },
  {
   "cell_type": "code",
   "execution_count": 372,
   "metadata": {},
   "outputs": [
    {
     "data": {
      "text/html": [
       "<div>\n",
       "<style scoped>\n",
       "    .dataframe tbody tr th:only-of-type {\n",
       "        vertical-align: middle;\n",
       "    }\n",
       "\n",
       "    .dataframe tbody tr th {\n",
       "        vertical-align: top;\n",
       "    }\n",
       "\n",
       "    .dataframe thead th {\n",
       "        text-align: right;\n",
       "    }\n",
       "</style>\n",
       "<table border=\"1\" class=\"dataframe\">\n",
       "  <thead>\n",
       "    <tr style=\"text-align: right;\">\n",
       "      <th></th>\n",
       "      <th>x1</th>\n",
       "      <th>x2</th>\n",
       "      <th>x3</th>\n",
       "      <th>x5</th>\n",
       "      <th>x6</th>\n",
       "      <th>x10</th>\n",
       "      <th>heat_of_formation</th>\n",
       "    </tr>\n",
       "  </thead>\n",
       "  <tbody>\n",
       "    <tr>\n",
       "      <th>0</th>\n",
       "      <td>-0.944244</td>\n",
       "      <td>-0.467843</td>\n",
       "      <td>-0.250634</td>\n",
       "      <td>0.722437</td>\n",
       "      <td>2.718357</td>\n",
       "      <td>-0.381374</td>\n",
       "      <td>-1.240558</td>\n",
       "    </tr>\n",
       "    <tr>\n",
       "      <th>1</th>\n",
       "      <td>-0.184422</td>\n",
       "      <td>-0.263323</td>\n",
       "      <td>-0.406619</td>\n",
       "      <td>1.284893</td>\n",
       "      <td>3.853995</td>\n",
       "      <td>0.935994</td>\n",
       "      <td>-1.012833</td>\n",
       "    </tr>\n",
       "    <tr>\n",
       "      <th>2</th>\n",
       "      <td>-0.381459</td>\n",
       "      <td>-0.321316</td>\n",
       "      <td>-0.360481</td>\n",
       "      <td>1.159082</td>\n",
       "      <td>3.447642</td>\n",
       "      <td>0.133785</td>\n",
       "      <td>-1.145090</td>\n",
       "    </tr>\n",
       "    <tr>\n",
       "      <th>3</th>\n",
       "      <td>-0.791677</td>\n",
       "      <td>-0.419213</td>\n",
       "      <td>-0.270855</td>\n",
       "      <td>0.817097</td>\n",
       "      <td>2.801007</td>\n",
       "      <td>-0.273302</td>\n",
       "      <td>-1.112540</td>\n",
       "    </tr>\n",
       "    <tr>\n",
       "      <th>4</th>\n",
       "      <td>-0.785569</td>\n",
       "      <td>-0.452266</td>\n",
       "      <td>-0.316529</td>\n",
       "      <td>0.983658</td>\n",
       "      <td>3.238737</td>\n",
       "      <td>-0.267498</td>\n",
       "      <td>-1.162859</td>\n",
       "    </tr>\n",
       "  </tbody>\n",
       "</table>\n",
       "</div>"
      ],
      "text/plain": [
       "         x1        x2        x3        x5        x6       x10  \\\n",
       "0 -0.944244 -0.467843 -0.250634  0.722437  2.718357 -0.381374   \n",
       "1 -0.184422 -0.263323 -0.406619  1.284893  3.853995  0.935994   \n",
       "2 -0.381459 -0.321316 -0.360481  1.159082  3.447642  0.133785   \n",
       "3 -0.791677 -0.419213 -0.270855  0.817097  2.801007 -0.273302   \n",
       "4 -0.785569 -0.452266 -0.316529  0.983658  3.238737 -0.267498   \n",
       "\n",
       "   heat_of_formation  \n",
       "0          -1.240558  \n",
       "1          -1.012833  \n",
       "2          -1.145090  \n",
       "3          -1.112540  \n",
       "4          -1.162859  "
      ]
     },
     "execution_count": 372,
     "metadata": {},
     "output_type": "execute_result"
    }
   ],
   "source": [
    "dataset.head(5)"
   ]
  },
  {
   "cell_type": "code",
   "execution_count": 373,
   "metadata": {},
   "outputs": [],
   "source": [
    "X = dataset.iloc[:,:-1].values\n",
    "y = dataset.iloc[:,-1].values"
   ]
  },
  {
   "cell_type": "code",
   "execution_count": 374,
   "metadata": {},
   "outputs": [
    {
     "name": "stdout",
     "output_type": "stream",
     "text": [
      "(432, 6) (108, 6) (432,) (108,)\n"
     ]
    }
   ],
   "source": [
    "from sklearn.model_selection import train_test_split\n",
    "X_train, X_test , y_train, y_test = train_test_split(X,y,test_size=0.2, random_state=0)\n",
    "print(X_train.shape, X_test.shape, y_train.shape, y_test.shape)"
   ]
  },
  {
   "cell_type": "code",
   "execution_count": 375,
   "metadata": {},
   "outputs": [],
   "source": [
    "sc_x = StandardScaler()\n",
    "sc_x.fit(X_train)\n",
    "X_train_sc = sc_x.transform(X_train)\n",
    "X_test_sc = sc_x.transform(X_test)\n",
    "ms_y = MinMaxScaler(feature_range=(0,1))\n",
    "ms_y.fit(y_train.reshape(y_train.shape[0],-1))\n",
    "y_train_sc = ms_y.transform(y_train.reshape(y_train.shape[0],-1))\n",
    "y_test_sc = ms_y.transform(y_test.reshape(y_test.shape[0],-1))"
   ]
  },
  {
   "cell_type": "code",
   "execution_count": 376,
   "metadata": {},
   "outputs": [],
   "source": [
    "def scheduler(epoch, lr):\n",
    "    if epoch<25:\n",
    "        return lr\n",
    "    elif epoch >=50 and epoch < 75:\n",
    "        return lr*0.99\n",
    "    elif epoch >=75 and epoch <100:\n",
    "        return lr*0.98\n",
    "    else:\n",
    "        return lr*0.80\n"
   ]
  },
  {
   "cell_type": "code",
   "execution_count": 377,
   "metadata": {},
   "outputs": [],
   "source": [
    "lr_scheduler = LearningRateScheduler(\n",
    "    scheduler,\n",
    "    verbose=0\n",
    ")"
   ]
  },
  {
   "cell_type": "code",
   "execution_count": 378,
   "metadata": {},
   "outputs": [],
   "source": [
    "rlr = ReduceLROnPlateau(\n",
    "    monitor='loss',\n",
    "    patience=3,\n",
    "    factor=0.85\n",
    ")"
   ]
  },
  {
   "cell_type": "code",
   "execution_count": 379,
   "metadata": {},
   "outputs": [],
   "source": [
    "model = regressor()\n",
    "model.compile(optimizer=tf.optimizers.Adam(learning_rate=0.02), loss='mean_squared_error')"
   ]
  },
  {
   "cell_type": "code",
   "execution_count": 380,
   "metadata": {},
   "outputs": [],
   "source": [
    "history = model.fit(X_train_sc, y_train_sc, epochs=200, batch_size=5, verbose=0, shuffle=True, callbacks=[rlr,lr_scheduler])"
   ]
  },
  {
   "cell_type": "code",
   "execution_count": 381,
   "metadata": {},
   "outputs": [],
   "source": [
    "def plot_loss(history):\n",
    "    plt.figure(figsize=(10,5))\n",
    "    plt.plot(history.history['loss'], label='loss', color='red')\n",
    "    #plt.plot(history.history['val_loss'], label='val_loss', color='blue')\n",
    "    plt.xlabel('Epoch')\n",
    "    plt.ylabel('Error [MPG]')\n",
    "    plt.legend()\n",
    "    plt.grid(True)"
   ]
  },
  {
   "cell_type": "code",
   "execution_count": 394,
   "metadata": {},
   "outputs": [
    {
     "name": "stdout",
     "output_type": "stream",
     "text": [
      "final training loss: 0.13 %\n"
     ]
    }
   ],
   "source": [
    "print(f\"final training loss: {(history.history['loss'][-1])*100:.2f} %\" )"
   ]
  },
  {
   "cell_type": "code",
   "execution_count": 382,
   "metadata": {},
   "outputs": [
    {
     "data": {
      "image/png": "[encoded data removed]",
      "text/plain": [
       "<Figure size 720x360 with 1 Axes>"
      ]
     },
     "metadata": {
      "needs_background": "light"
     },
     "output_type": "display_data"
    }
   ],
   "source": [
    "plot_loss(history)"
   ]
  },
  {
   "cell_type": "markdown",
   "metadata": {},
   "source": [
    "### Testing the model"
   ]
  },
  {
   "cell_type": "code",
   "execution_count": 383,
   "metadata": {},
   "outputs": [],
   "source": [
    "y_true = y_test_sc.reshape(-1,y_test_sc.shape[0])\n",
    "y_pred = model.predict(X_test_sc)\n",
    "y_pred = y_pred.reshape(-1,y_pred.shape[0])"
   ]
  },
  {
   "cell_type": "code",
   "execution_count": 384,
   "metadata": {},
   "outputs": [
    {
     "name": "stdout",
     "output_type": "stream",
     "text": [
      "Test Error of model : 0.24 %\n"
     ]
    }
   ],
   "source": [
    "mse = tf.keras.losses.MeanSquaredError()\n",
    "error = mse(y_pred, y_true).numpy()\n",
    "print(f'Test Error of model : {error*100:.2f} %')"
   ]
  },
  {
   "cell_type": "code",
   "execution_count": 385,
   "metadata": {},
   "outputs": [
    {
     "name": "stdout",
     "output_type": "stream",
     "text": [
      "r2 score of the model : 0.9535\n"
     ]
    }
   ],
   "source": [
    "unexplained_error = tf.reduce_sum(tf.square(tf.subtract(y_true, y_pred)))\n",
    "total_error = tf.reduce_sum(tf.square(tf.subtract(y_true, tf.reduce_mean(y_true))))\n",
    "R_squared = tf.subtract(1, tf.divide(unexplained_error, total_error))\n",
    "print(f'r2 score of the model : {R_squared.numpy():.4f}')"
   ]
  },
  {
   "cell_type": "markdown",
   "metadata": {},
   "source": [
    "### Plot of Predicted heat of formation vs True heat of formation"
   ]
  },
  {
   "cell_type": "code",
   "execution_count": 386,
   "metadata": {},
   "outputs": [
    {
     "data": {
      "image/png": "[encoded data removed]",
      "text/plain": [
       "<Figure size 720x360 with 1 Axes>"
      ]
     },
     "metadata": {
      "needs_background": "light"
     },
     "output_type": "display_data"
    }
   ],
   "source": [
    "plt.figure(figsize=(10,5))\n",
    "plt.scatter(y_true, y_pred, color='red')\n",
    "plt.xlabel('True results')\n",
    "plt.ylabel('Predicted results')\n",
    "plt.show()"
   ]
  },
  {
   "cell_type": "markdown",
   "metadata": {},
   "source": [
    "### Model Architecture Visualization"
   ]
  },
  {
   "cell_type": "code",
   "execution_count": 387,
   "metadata": {},
   "outputs": [
    {
     "data": {
      "image/png": "[encoded data removed]",
      "text/plain": [
       "<IPython.core.display.Image object>"
      ]
     },
     "execution_count": 387,
     "metadata": {},
     "output_type": "execute_result"
    }
   ],
   "source": [
    "from tensorflow.keras.utils import plot_model\n",
    "plot_model(model.reg, to_file='model.png',show_shapes=True)"
   ]
  }
 ],
 "metadata": {
  "interpreter": {
   "hash": "9309c6c020d114c3fd46631aa9c37fafd2aacd31447f63bb7fceba0d40b56790"
  },
  "kernelspec": {
   "display_name": "Python 3.9.7 ('base')",
   "language": "python",
   "name": "python3"
  },
  "language_info": {
   "codemirror_mode": {
    "name": "ipython",
    "version": 3
   },
   "file_extension": ".py",
   "mimetype": "text/x-python",
   "name": "python",
   "nbconvert_exporter": "python",
   "pygments_lexer": "ipython3",
   "version": "3.9.7"
  },
  "orig_nbformat": 4
 },
 "nbformat": 4,
 "nbformat_minor": 2
}
