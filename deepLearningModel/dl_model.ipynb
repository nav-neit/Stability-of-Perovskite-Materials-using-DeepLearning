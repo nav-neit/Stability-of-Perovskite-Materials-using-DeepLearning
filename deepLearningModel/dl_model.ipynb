{
 "cells": [
  {
   "cell_type": "code",
   "execution_count": 40,
   "metadata": {},
   "outputs": [],
   "source": [
    "import pandas as pd\n",
    "import matplotlib.pyplot as plt\n",
    "from sklearn.preprocessing import MinMaxScaler,StandardScaler\n",
    "import tensorflow as tf\n",
    "from tensorflow.keras import layers, losses\n",
    "from tensorflow.keras.models import Model\n",
    "from tensorflow.keras import initializers\n",
    "from keras.callbacks import LearningRateScheduler, ReduceLROnPlateau"
   ]
  },
  {
   "cell_type": "code",
   "execution_count": 41,
   "metadata": {},
   "outputs": [],
   "source": [
    "import absl.logging\n",
    "absl.logging.set_verbosity(absl.logging.ERROR)"
   ]
  },
  {
   "cell_type": "code",
   "execution_count": 42,
   "metadata": {},
   "outputs": [],
   "source": [
    "initializer = initializers.RandomUniform(minval=-1.0, maxval=1.0)\n",
    "\n",
    "class regressor(Model):\n",
    "    def __init__(self):\n",
    "        super(regressor, self).__init__()\n",
    "        self.reg = tf.keras.Sequential([\n",
    "            layers.Dense(20, activation=tf.keras.layers.LeakyReLU(alpha=0.2), kernel_initializer=initializer),\n",
    "            layers.Dense(20, activation=tf.keras.layers.LeakyReLU(alpha=0.2), kernel_initializer=initializer),\n",
    "            layers.Dense(20, activation=tf.keras.layers.LeakyReLU(alpha=0.2), kernel_initializer=initializer),\n",
    "            layers.Dense(1, activation='sigmoid',kernel_initializer=initializer)\n",
    "        ])\n",
    "\n",
    "    def call(self, x):\n",
    "        y = self.reg(x)\n",
    "        return y"
   ]
  },
  {
   "cell_type": "code",
   "execution_count": 43,
   "metadata": {},
   "outputs": [
    {
     "data": {
      "text/html": [
       "<div>\n",
       "<style scoped>\n",
       "    .dataframe tbody tr th:only-of-type {\n",
       "        vertical-align: middle;\n",
       "    }\n",
       "\n",
       "    .dataframe tbody tr th {\n",
       "        vertical-align: top;\n",
       "    }\n",
       "\n",
       "    .dataframe thead th {\n",
       "        text-align: right;\n",
       "    }\n",
       "</style>\n",
       "<table border=\"1\" class=\"dataframe\">\n",
       "  <thead>\n",
       "    <tr style=\"text-align: right;\">\n",
       "      <th></th>\n",
       "      <th>x1</th>\n",
       "      <th>x2</th>\n",
       "      <th>x3</th>\n",
       "      <th>x4</th>\n",
       "      <th>x5</th>\n",
       "      <th>x6</th>\n",
       "      <th>x7</th>\n",
       "      <th>x8</th>\n",
       "      <th>x9</th>\n",
       "      <th>x10</th>\n",
       "      <th>heat_of_formation</th>\n",
       "    </tr>\n",
       "  </thead>\n",
       "  <tbody>\n",
       "    <tr>\n",
       "      <th>0</th>\n",
       "      <td>-0.944244</td>\n",
       "      <td>-0.467843</td>\n",
       "      <td>-0.250634</td>\n",
       "      <td>-0.607917</td>\n",
       "      <td>0.722437</td>\n",
       "      <td>2.718357</td>\n",
       "      <td>1.390860</td>\n",
       "      <td>0.095709</td>\n",
       "      <td>-0.376503</td>\n",
       "      <td>-0.381374</td>\n",
       "      <td>-1.240558</td>\n",
       "    </tr>\n",
       "    <tr>\n",
       "      <th>1</th>\n",
       "      <td>-0.184422</td>\n",
       "      <td>-0.263323</td>\n",
       "      <td>-0.406619</td>\n",
       "      <td>1.421094</td>\n",
       "      <td>1.284893</td>\n",
       "      <td>3.853995</td>\n",
       "      <td>1.308007</td>\n",
       "      <td>-0.123640</td>\n",
       "      <td>1.368393</td>\n",
       "      <td>0.935994</td>\n",
       "      <td>-1.012833</td>\n",
       "    </tr>\n",
       "    <tr>\n",
       "      <th>2</th>\n",
       "      <td>-0.381459</td>\n",
       "      <td>-0.321316</td>\n",
       "      <td>-0.360481</td>\n",
       "      <td>0.190600</td>\n",
       "      <td>1.159082</td>\n",
       "      <td>3.447642</td>\n",
       "      <td>1.226776</td>\n",
       "      <td>-0.085541</td>\n",
       "      <td>0.499673</td>\n",
       "      <td>0.133785</td>\n",
       "      <td>-1.145090</td>\n",
       "    </tr>\n",
       "    <tr>\n",
       "      <th>3</th>\n",
       "      <td>-0.791677</td>\n",
       "      <td>-0.419213</td>\n",
       "      <td>-0.270855</td>\n",
       "      <td>-0.446005</td>\n",
       "      <td>0.817097</td>\n",
       "      <td>2.801007</td>\n",
       "      <td>1.504990</td>\n",
       "      <td>-0.020920</td>\n",
       "      <td>-0.254898</td>\n",
       "      <td>-0.273302</td>\n",
       "      <td>-1.112540</td>\n",
       "    </tr>\n",
       "    <tr>\n",
       "      <th>4</th>\n",
       "      <td>-0.785569</td>\n",
       "      <td>-0.452266</td>\n",
       "      <td>-0.316529</td>\n",
       "      <td>-0.389248</td>\n",
       "      <td>0.983658</td>\n",
       "      <td>3.238737</td>\n",
       "      <td>0.938708</td>\n",
       "      <td>0.085265</td>\n",
       "      <td>-0.219014</td>\n",
       "      <td>-0.267498</td>\n",
       "      <td>-1.162859</td>\n",
       "    </tr>\n",
       "  </tbody>\n",
       "</table>\n",
       "</div>"
      ],
      "text/plain": [
       "         x1        x2        x3        x4        x5        x6        x7  \\\n",
       "0 -0.944244 -0.467843 -0.250634 -0.607917  0.722437  2.718357  1.390860   \n",
       "1 -0.184422 -0.263323 -0.406619  1.421094  1.284893  3.853995  1.308007   \n",
       "2 -0.381459 -0.321316 -0.360481  0.190600  1.159082  3.447642  1.226776   \n",
       "3 -0.791677 -0.419213 -0.270855 -0.446005  0.817097  2.801007  1.504990   \n",
       "4 -0.785569 -0.452266 -0.316529 -0.389248  0.983658  3.238737  0.938708   \n",
       "\n",
       "         x8        x9       x10  heat_of_formation  \n",
       "0  0.095709 -0.376503 -0.381374          -1.240558  \n",
       "1 -0.123640  1.368393  0.935994          -1.012833  \n",
       "2 -0.085541  0.499673  0.133785          -1.145090  \n",
       "3 -0.020920 -0.254898 -0.273302          -1.112540  \n",
       "4  0.085265 -0.219014 -0.267498          -1.162859  "
      ]
     },
     "execution_count": 43,
     "metadata": {},
     "output_type": "execute_result"
    }
   ],
   "source": [
    "dataset = pd.read_csv('encoded_dataset.csv',usecols=['x1','x2','x3','x4','x5','x6','x7','x8','x9','x10','heat_of_formation'])\n",
    "dataset.head(5)"
   ]
  },
  {
   "cell_type": "code",
   "execution_count": 44,
   "metadata": {},
   "outputs": [],
   "source": [
    "X = dataset.iloc[:,:-1].values\n",
    "y = dataset.iloc[:,-1].values"
   ]
  },
  {
   "cell_type": "code",
   "execution_count": 45,
   "metadata": {},
   "outputs": [
    {
     "name": "stdout",
     "output_type": "stream",
     "text": [
      "(432, 10) (108, 10) (432,) (108,)\n"
     ]
    }
   ],
   "source": [
    "from sklearn.model_selection import train_test_split\n",
    "X_train, X_test , y_train, y_test = train_test_split(X,y,test_size=0.2)\n",
    "print(X_train.shape, X_test.shape, y_train.shape, y_test.shape)"
   ]
  },
  {
   "cell_type": "code",
   "execution_count": 46,
   "metadata": {},
   "outputs": [],
   "source": [
    "sc_x = StandardScaler()\n",
    "sc_x.fit(X_train)\n",
    "X_train_sc = sc_x.transform(X_train)\n",
    "X_test_sc = sc_x.transform(X_test)\n",
    "ms_y = MinMaxScaler(feature_range=(0,1))\n",
    "ms_y.fit(y_train.reshape(y_train.shape[0],-1))\n",
    "y_train_sc = ms_y.transform(y_train.reshape(y_train.shape[0],-1))\n",
    "y_test_sc = ms_y.transform(y_test.reshape(y_test.shape[0],-1))"
   ]
  },
  {
   "cell_type": "code",
   "execution_count": 47,
   "metadata": {},
   "outputs": [],
   "source": [
    "def scheduler(epoch, lr):\n",
    "    if epoch<25:\n",
    "        return lr\n",
    "    elif epoch >=25 and epoch < 50:\n",
    "        return lr*0.99\n",
    "    elif epoch >=50 and epoch <75:\n",
    "        return lr*0.98\n",
    "    else:\n",
    "        return lr*0.80\n"
   ]
  },
  {
   "cell_type": "code",
   "execution_count": 48,
   "metadata": {},
   "outputs": [],
   "source": [
    "lr_scheduler = LearningRateScheduler(\n",
    "    scheduler,\n",
    "    verbose=0\n",
    ")"
   ]
  },
  {
   "cell_type": "code",
   "execution_count": 49,
   "metadata": {},
   "outputs": [],
   "source": [
    "rlr = ReduceLROnPlateau(\n",
    "    monitor='loss',\n",
    "    patience=3,\n",
    "    factor=0.85\n",
    ")"
   ]
  },
  {
   "cell_type": "code",
   "execution_count": 50,
   "metadata": {},
   "outputs": [],
   "source": [
    "model = regressor()\n",
    "model.compile(optimizer=tf.optimizers.Adam(learning_rate=0.02), loss='mean_squared_error')"
   ]
  },
  {
   "cell_type": "code",
   "execution_count": 51,
   "metadata": {},
   "outputs": [],
   "source": [
    "history = model.fit(X_train_sc, y_train_sc,validation_split=0.2, epochs=200, batch_size=5, verbose=0, shuffle=True, callbacks=[rlr,lr_scheduler])"
   ]
  },
  {
   "cell_type": "code",
   "execution_count": 52,
   "metadata": {},
   "outputs": [],
   "source": [
    "def plot_loss(history):\n",
    "    plt.figure(figsize=(10,5))\n",
    "    plt.plot(history.history['loss'], label='loss', color='red')\n",
    "    plt.plot(history.history['val_loss'], label='val_loss', color='blue')\n",
    "    plt.xlabel('Epoch')\n",
    "    plt.ylabel('Error [MPG]')\n",
    "    plt.legend()\n",
    "    plt.grid(True)"
   ]
  },
  {
   "cell_type": "code",
   "execution_count": 53,
   "metadata": {},
   "outputs": [
    {
     "data": {
      "image/png": "[encoded data removed]",
      "text/plain": [
       "<Figure size 720x360 with 1 Axes>"
      ]
     },
     "metadata": {
      "needs_background": "light"
     },
     "output_type": "display_data"
    }
   ],
   "source": [
    "plot_loss(history)"
   ]
  },
  {
   "cell_type": "markdown",
   "metadata": {},
   "source": [
    "### Testing the model"
   ]
  },
  {
   "cell_type": "code",
   "execution_count": 54,
   "metadata": {},
   "outputs": [],
   "source": [
    "y_true = y_test_sc.reshape(-1,y_test_sc.shape[0])\n",
    "y_pred = model.predict(X_test_sc)\n",
    "y_pred = y_pred.reshape(-1,y_pred.shape[0])"
   ]
  },
  {
   "cell_type": "code",
   "execution_count": 55,
   "metadata": {},
   "outputs": [
    {
     "name": "stdout",
     "output_type": "stream",
     "text": [
      "Test Error of model : 0.15 %\n"
     ]
    }
   ],
   "source": [
    "mse = tf.keras.losses.MeanSquaredError()\n",
    "error = mse(y_pred, y_true).numpy()\n",
    "print(f'Test Error of model : {error*100:.2f} %')"
   ]
  },
  {
   "cell_type": "code",
   "execution_count": 56,
   "metadata": {},
   "outputs": [
    {
     "name": "stdout",
     "output_type": "stream",
     "text": [
      "r2 score of the model : 0.9705\n"
     ]
    }
   ],
   "source": [
    "unexplained_error = tf.reduce_sum(tf.square(tf.subtract(y_true, y_pred)))\n",
    "total_error = tf.reduce_sum(tf.square(tf.subtract(y_true, tf.reduce_mean(y_true))))\n",
    "R_squared = tf.subtract(1, tf.divide(unexplained_error, total_error))\n",
    "print(f'r2 score of the model : {R_squared.numpy():.4f}')"
   ]
  },
  {
   "cell_type": "markdown",
   "metadata": {},
   "source": [
    "### Plot of Predicted heat of formation vs True heat of formation"
   ]
  },
  {
   "cell_type": "code",
   "execution_count": 57,
   "metadata": {},
   "outputs": [
    {
     "data": {
      "image/png": "[encoded data removed]",
      "text/plain": [
       "<Figure size 720x360 with 1 Axes>"
      ]
     },
     "metadata": {
      "needs_background": "light"
     },
     "output_type": "display_data"
    }
   ],
   "source": [
    "plt.figure(figsize=(10,5))\n",
    "plt.scatter(y_true, y_pred, color='red')\n",
    "plt.xlabel('True results')\n",
    "plt.ylabel('Predicted results')\n",
    "plt.show()"
   ]
  },
  {
   "cell_type": "markdown",
   "metadata": {},
   "source": [
    "### Model Architecture Visualization"
   ]
  },
  {
   "cell_type": "code",
   "execution_count": 58,
   "metadata": {},
   "outputs": [
    {
     "data": {
      "image/png": "[encoded data removed]",
      "text/plain": [
       "<IPython.core.display.Image object>"
      ]
     },
     "execution_count": 58,
     "metadata": {},
     "output_type": "execute_result"
    }
   ],
   "source": [
    "from tensorflow.keras.utils import plot_model\n",
    "plot_model(model.reg, to_file='model.png',show_shapes=True)"
   ]
  }
 ],
 "metadata": {
  "interpreter": {
   "hash": "9309c6c020d114c3fd46631aa9c37fafd2aacd31447f63bb7fceba0d40b56790"
  },
  "kernelspec": {
   "display_name": "Python 3.9.7 ('base')",
   "language": "python",
   "name": "python3"
  },
  "language_info": {
   "codemirror_mode": {
    "name": "ipython",
    "version": 3
   },
   "file_extension": ".py",
   "mimetype": "text/x-python",
   "name": "python",
   "nbconvert_exporter": "python",
   "pygments_lexer": "ipython3",
   "version": "3.9.7"
  },
  "orig_nbformat": 4
 },
 "nbformat": 4,
 "nbformat_minor": 2
}
